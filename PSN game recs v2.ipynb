{
 "cells": [
  {
   "cell_type": "code",
   "execution_count": 65,
   "metadata": {
    "collapsed": true
   },
   "outputs": [],
   "source": [
    "import requests\n",
    "import re\n",
    "import time\n",
    "from random import shuffle\n",
    "import pandas as pd\n",
    "import numpy as np\n",
    "from matplotlib import pyplot as plt"
   ]
  },
  {
   "cell_type": "code",
   "execution_count": 4,
   "metadata": {
    "collapsed": true
   },
   "outputs": [],
   "source": [
    "def get_user_list(file, pause):\n",
    "    '''\n",
    "    Scrapes psnprofiles.com to get list of users on the site.\n",
    "\n",
    "    Input:\n",
    "    pause: int, number of seconds to pause between requests\n",
    "    file: string, name of the file to write the list to\n",
    "\n",
    "    Output:\n",
    "    None\n",
    "    '''\n",
    "    users = set()\n",
    "    while k < 58200:\n",
    "        temp_response = requests.get('https://psnprofiles.com/leaderboard/all?page=' + str(k))\n",
    "        temp_page = str(temp_response.content)\n",
    "        temp_results = re.findall(r'href=\"/[\\w]+\"', temp_page)[9:]\n",
    "        new_users = [x[7:-1] for x in temp_results]\n",
    "        if len(new_users) > 0:\n",
    "            users.update(new_users)\n",
    "            k += 1\n",
    "        else:\n",
    "            print('No users found on page' + str(k) + '.')\n",
    "            print(temp_page)\n",
    "            k = 58200\n",
    "        if k % 1000 == 0:\n",
    "            with open(file, 'a') as f:\n",
    "                for user in users:\n",
    "                    f.write(user+'\\n')\n",
    "            users = set()\n",
    "            print(str(k) + ' pages scraped. '+str(100*k/58209.)+'% done')\n",
    "        time.sleep(pause)"
   ]
  },
  {
   "cell_type": "code",
   "execution_count": 5,
   "metadata": {
    "collapsed": true
   },
   "outputs": [],
   "source": [
    "def shuffle_users(user_list, shuffled_file):\n",
    "    '''\n",
    "    Takes a text file with a list of users and writes a shuffled list to a text file.\n",
    "    \n",
    "    Inputs:\n",
    "    user_list: string, file with list of users\n",
    "    shuffled_file: string, name for the output file\n",
    "    \n",
    "    Outputs:\n",
    "    None\n",
    "    '''\n",
    "    users = []\n",
    "    with open(user_list, 'r') as f:\n",
    "        for line in f:\n",
    "            users.append(line[:-1])\n",
    "    shuffle(users)\n",
    "    with open(shuffled_file, 'a') as file:\n",
    "        for user in users:\n",
    "            file.write(user + '\\n')"
   ]
  },
  {
   "cell_type": "code",
   "execution_count": 6,
   "metadata": {
    "collapsed": true
   },
   "outputs": [],
   "source": [
    "def get_profiles(profiles_file, users_file, start_index, end_index, pause):\n",
    "    '''\n",
    "    Finds trophy information for users in the users_file list and writes this information\n",
    "    to the profiles_file text file.\n",
    "    \n",
    "    Inputs:\n",
    "    profiles_file: string, the text file to be written to\n",
    "    users_file: string, list of users to read from\n",
    "    start_index: int, first user in list to get information for\n",
    "    end_index: int, last user\n",
    "    pause: int, number of seconds to wait between requests    \n",
    "    \n",
    "    Outputs:\n",
    "    None\n",
    "    '''  \n",
    "    users = []\n",
    "    with open(users_file, 'r') as f:\n",
    "        for line in f:\n",
    "            users.append(line[:-1])\n",
    "    with open(profiles_file, 'a') as f2:\n",
    "        for k, user in enumerate(users[start_index:end_index]):\n",
    "            responses = str(requests.get('https://psnprofiles.com/' + user).content).split('\"game\"')[1:]\n",
    "            for entry in responses:\n",
    "                game = re.search('alt=\"(.+?)\"', entry).group(1)\n",
    "                rank = re.search('game-rank ([A-Z])', entry).group(1)\n",
    "                f2.write(user + '\\t' + game + '\\t' + rank + '\\n')\n",
    "            if k % 1000 == 0:\n",
    "                print(k)\n",
    "            time.sleep(delay)"
   ]
  },
  {
   "cell_type": "code",
   "execution_count": 1,
   "metadata": {
    "collapsed": true
   },
   "outputs": [],
   "source": [
    "rank_dict = {'S' : 6, 'A' : 5, 'B' : 4, 'C' : 3, 'D' : 2, 'F' : 1}"
   ]
  },
  {
   "cell_type": "code",
   "execution_count": 7,
   "metadata": {
    "collapsed": true
   },
   "outputs": [],
   "source": [
    "def df_from_tsv(file):\n",
    "    '''\n",
    "    Produces a Pandas DataFrame from the tab-separated text_file output by get_profiles.\n",
    "    \n",
    "    input\n",
    "    file: string, the path of a text file where each line is of the form\n",
    "    PSN ID \\t Game name \\t Trophy Rank\n",
    "    \n",
    "    output\n",
    "    df: a DataFrame whose index is PSN id, columns are game names, and values are trophy ranks\n",
    "    on a scale of -2 to 3.\n",
    "    '''\n",
    "    \n",
    "    df = pd.read_csv(file, delimiter='\\t', names = ['PSNid', 'Game', 'Rank'])\n",
    "    df['Game'] = df['Game'].transform\\\n",
    "                        (lambda title: ''.join(char for char in title if ord(char)<128))\n",
    "    df['Game'] = df['Game'].transform(lambda title: re.sub(r\"\\\\\", '', \\\n",
    "                        re.sub('u[\\d]+', '', title)))\n",
    "    df['Rank'] = df['Rank'].map(rank_dict)\n",
    "    df = df.pivot_table(index = 'PSNid', columns = 'Game', aggfunc = max)['Rank']\n",
    "    return df  "
   ]
  },
  {
   "cell_type": "code",
   "execution_count": 8,
   "metadata": {
    "collapsed": true
   },
   "outputs": [],
   "source": [
    "def build_sim_mat_file(df, output_file, first_sample, last_sample):\n",
    "    '''\n",
    "    Builds a similarity matrix from a df. This matrix is very large, and may be impractical\n",
    "    to store in memory, so we write it to a file.\n",
    "    Each line of the file will be of the form 'user1 \\t user2 \\t similarity'\n",
    "    \n",
    "    input:\n",
    "    df: pandas DataFrame, where the index is users, the columns are games,\n",
    "    and the values are trophy ranks.\n",
    "    output_file: string, path to text file\n",
    "    first_sample: int, first sample in df to check\n",
    "    last_sample: int, last sample in df to check\n",
    "    These last two are to allow building the file in shifts, or writing to multiple files.\n",
    "    For each sample between first_sample and last_sample, the similarity score of that user\n",
    "    with all *previous* users in the list (including those before first_sample)\n",
    "    will be written to the file.\n",
    "    \n",
    "    output:\n",
    "    None\n",
    "    '''\n",
    "    counter = 0\n",
    "    total_pairs = sum(i for i in range(first_sample,last_sample))\n",
    "    start_time = time.time()\n",
    "\n",
    "    for i in range(first_sample, last_sample):\n",
    "        for j in range(i):\n",
    "            sim = compute_sim(df.iloc[i], df.iloc[j])\n",
    "            with open(output_file, 'a') as file:\n",
    "                file.write(users[i] + '\\t' + users[j] + '\\t' + str(sim) + '\\n')\n",
    "            counter += 1\n",
    "            if counter % 5e4 == 50:\n",
    "                completion = 100 * counter/float(total_pairs)\n",
    "                elapsed = (time.time() - start_time)/3600.\n",
    "                remaining = (100 - completion) * elapsed/completion\n",
    "                print('{0:.2f}% done. {1:.2f} hours elapsed. Estimated time remaining: {2:.2f} hours.'.format\\\n",
    "                    (completion, elapsed, remaining))"
   ]
  },
  {
   "cell_type": "code",
   "execution_count": 9,
   "metadata": {
    "collapsed": true
   },
   "outputs": [],
   "source": [
    "def compute_sim(a,b):\n",
    "    a = np.array(a.fillna(0))\n",
    "    b = np.array(b.fillna(0))\n",
    "    # Note we add a tiny positive number to the denominator to prevent division by zero\n",
    "    # when one of the users has no ratings (or only ratings of 0).\n",
    "    return(a.dot(b)/(np.linalg.norm(a) * np.linalg.norm(b) + 1e-5))"
   ]
  },
  {
   "cell_type": "code",
   "execution_count": 10,
   "metadata": {
    "collapsed": true
   },
   "outputs": [],
   "source": [
    "def find_game_recs(user, game_ranks_df, sim_files):\n",
    "    '''\n",
    "    Takes a user and a list of sim_files and produces game recommendations for that user.\n",
    "    \n",
    "    input:\n",
    "    user: string, PSN id of user\n",
    "    game_ranks_df: pandas DataFrame, where index is users, columns are games, values are ranks\n",
    "    sim_files: list of strings, each one a path to a file containing similarity scores,\n",
    "                in the format output by build_sim_mat_file\n",
    "                \n",
    "    output:\n",
    "    game_recs: pandas Series, predicted trophy ranks for games user has not played, ranked\n",
    "                highest to lowest\n",
    "    ''' \n",
    "    num_users = game_ranks_df.shape[0]\n",
    "    game_recs = pd.Series(0, index = game_ranks_df.columns.values)\n",
    "    for file in sim_files:\n",
    "        with open(file, 'r') as f:\n",
    "            sim_list = [line.split('\\t') for line in f if user in line.split('\\t')]\n",
    "        for triple in sim_list:\n",
    "            if triple[0] == user:\n",
    "                other_user = triple[1]\n",
    "            else:\n",
    "                other_user = triple[0]\n",
    "            sim = triple[2]\n",
    "            ranks = game_ranks_df.loc[other_user].fillna(0)\n",
    "            game_recs = game_recs + (100*float(sim)/num_users) * ranks\n",
    "            game_recs = game_recs[pd.isnull(game_ranks_df.loc[user])]\n",
    "    return game_recs.sort_values(ascending = False)"
   ]
  },
  {
   "cell_type": "code",
   "execution_count": 11,
   "metadata": {
    "collapsed": true
   },
   "outputs": [],
   "source": [
    "def find_game_recs_centered(user, game_ranks_df, sim_files):\n",
    "    '''\n",
    "    Takes a user and a list of sim_files and produces game recommendations for that user.\n",
    "    \n",
    "    input:\n",
    "    user: string, PSN id of user\n",
    "    game_ranks_df: pandas DataFrame, where index is users, columns are games, values are ranks\n",
    "    sim_files: list of strings, each one a path to a file containing similarity scores,\n",
    "                in the format output by build_sim_mat_file\n",
    "                \n",
    "    output:\n",
    "    game_recs: pandas Series, predicted trophy ranks for games user has not played, ranked\n",
    "                highest to lowest\n",
    "    ''' \n",
    "    num_users = game_ranks_df.shape[0]\n",
    "    game_recs = pd.Series(0, index = game_ranks_df.columns.values)\n",
    "    means = game_ranks_df.loc['mean_values']\n",
    "    for file in sim_files:\n",
    "        with open(file, 'r') as f:\n",
    "            sim_list = [line.split('\\t') for line in f if user in line.split('\\t')]\n",
    "        for triple in sim_list:\n",
    "            if triple[0] == user:\n",
    "                other_user = triple[1]\n",
    "            else:\n",
    "                other_user = triple[0]\n",
    "            sim = triple[2]\n",
    "            ranks = game_ranks_df.loc[other_user].fillna(means)\n",
    "            game_recs = game_recs + (100*float(sim)/num_users) * (ranks - means)\n",
    "            game_recs = game_recs[pd.isnull(game_ranks_df.loc[user])]\n",
    "    return game_recs.sort_values(ascending = False)"
   ]
  },
  {
   "cell_type": "code",
   "execution_count": 12,
   "metadata": {},
   "outputs": [],
   "source": [
    "df = df_from_tsv('psn_profiles2.txt')\n",
    "df2 = df_from_tsv('psn_profiles3.txt')\n",
    "df3 = df_from_tsv('psn_profiles5.txt')"
   ]
  },
  {
   "cell_type": "code",
   "execution_count": 17,
   "metadata": {},
   "outputs": [],
   "source": [
    "df = df.append(df2).append(df3)\n",
    "df = df[~df.index.duplicated(keep='first')]"
   ]
  },
  {
   "cell_type": "code",
   "execution_count": 24,
   "metadata": {},
   "outputs": [
    {
     "data": {
      "text/plain": [
       "Grand Theft Auto V                     59036.0\n",
       "Call of Duty: Black Ops                39617.0\n",
       "Call of Duty: Black Ops II             35979.0\n",
       "Call of Duty: Modern Warfare 2         35771.0\n",
       "Call of Duty: Modern Warfare 3         34225.0\n",
       "Destiny                                29220.0\n",
       "LittleBigPlanet                        29028.0\n",
       "Uncharted 3: Drake&#039;s Deception    28347.0\n",
       "Call of Duty: Ghosts                   27579.0\n",
       "Assassin&#039;s Creed II               27572.0\n",
       "dtype: float64"
      ]
     },
     "execution_count": 24,
     "metadata": {},
     "output_type": "execute_result"
    }
   ],
   "source": [
    "df.sum().sort_values(ascending = False).iloc[0:10]"
   ]
  },
  {
   "cell_type": "code",
   "execution_count": 36,
   "metadata": {},
   "outputs": [
    {
     "data": {
      "text/plain": [
       "NieR: Automata                          5.911046\n",
       "Final Fantasy XV                        2.363486\n",
       "Horizon Zero Dawn                       2.317029\n",
       "Bloodborne                              2.239351\n",
       "Dark Souls III                          1.860601\n",
       "Uncharted 4: A Thief&#039;s End         1.729454\n",
       "Persona 5                               1.593826\n",
       "Life is Strange                         1.503396\n",
       "Nioh                                    1.410986\n",
       "Metal Gear Solid V: The Phantom Pain    1.336457\n",
       "dtype: float64"
      ]
     },
     "execution_count": 36,
     "metadata": {},
     "output_type": "execute_result"
    }
   ],
   "source": [
    "'''\n",
    "People who enjoyed the story-focused open-world RPG NieR: Automata also enjoyed RPGs like Persona 5 and \n",
    "Final Fantasy XV, open-world games like Metal Gear Solid V and Horizon Zero Dawn, \n",
    "and story-based games like Life is Strange.\n",
    "'''\n",
    "\n",
    "(df[df['NieR: Automata'] == 6].sum()/len(df[df['NieR: Automata'] == 6])\n",
    "- (df/len(df)).sum()).sort_values(ascending = False).iloc[0:10]"
   ]
  },
  {
   "cell_type": "code",
   "execution_count": 35,
   "metadata": {},
   "outputs": [
    {
     "data": {
      "text/plain": [
       "Rogue Legacy                     396.0\n",
       "Bloodborne                       165.0\n",
       "Transistor                       137.0\n",
       "Rocket League                    132.0\n",
       "inFamous First Light             130.0\n",
       "inFamous Second Son              129.0\n",
       "Teslagrad                        121.0\n",
       "The Binding of Isaac: Rebirth    110.0\n",
       "Resogun                          109.0\n",
       "Valiant Hearts: The Great War    109.0\n",
       "dtype: float64"
      ]
     },
     "execution_count": 35,
     "metadata": {},
     "output_type": "execute_result"
    }
   ],
   "source": [
    "'''\n",
    "People who enjoyed the 2D indie game Rogue Legacy also liked other 2D indie games like \n",
    "Transistor, Teslagrad, The Binding of Isaac, Resogun, and Valiant Hearts.\n",
    "'''\n",
    "\n",
    "df[df['Rogue Legacy'] == 6].sum().sort_values(ascending = False).iloc[:10]"
   ]
  },
  {
   "cell_type": "code",
   "execution_count": 39,
   "metadata": {},
   "outputs": [],
   "source": [
    "df = df.fillna(0)"
   ]
  },
  {
   "cell_type": "code",
   "execution_count": 54,
   "metadata": {
    "collapsed": true
   },
   "outputs": [],
   "source": [
    "m = df.shape[0]\n",
    "ranks = np.array(range(7))\n",
    "\n",
    "from matplotlib import pyplot as plt"
   ]
  },
  {
   "cell_type": "code",
   "execution_count": 72,
   "metadata": {},
   "outputs": [
    {
     "data": {
      "image/png": "[encoded data removed]",
      "text/plain": [
       "<matplotlib.figure.Figure at 0x118029ac8>"
      ]
     },
     "metadata": {},
     "output_type": "display_data"
    }
   ],
   "source": [
    "'''\n",
    "This graph shows that Rogue Legacy trophy rank is far more predictive of Binding of Isaac trophy rank\n",
    "than it is of Persona 5 trophy rank. Rogue Legacy and Binding of Isaac are both 2D indie rogue-likes,\n",
    "while Persona 5 is a story-focused role-playing game.\n",
    "\n",
    "(Note that these averages include people who do not own the game in question, which is why they are all quite low.\n",
    "To a large extent, what it is predicting is whether the user owns the other game.)\n",
    "'''\n",
    "\n",
    "means = [df[df['Rogue Legacy'] == k]['The Binding of Isaac: Rebirth'].mean() for k in range(7)]\n",
    "means2 = [df[df['Rogue Legacy'] == k]['Persona 5'].mean() for k in range(7)]\n",
    "\n",
    "ax = plt.subplot(111)\n",
    "ax.bar(ranks - 0.4, means, width = 0.4, color = 'r', label = 'Binding of Isaac')\n",
    "ax.bar(ranks, means2, width = 0.4, color = 'b', label = 'Persona 5')\n",
    "ax.legend(loc = 'upper left', fontsize = 10)\n",
    "plt.xlabel('Rogue Legacy trophy rank', fontsize = 10)\n",
    "plt.ylabel('Mean trophy rank', fontsize = 10)\n",
    "plt.title('Mean trophy rank by Rogue Legacy trophy rank', fontsize = 14)\n",
    "\n",
    "plt.show()"
   ]
  },
  {
   "cell_type": "code",
   "execution_count": 74,
   "metadata": {},
   "outputs": [
    {
     "data": {
      "image/png": "[encoded data removed]",
      "text/plain": [
       "<matplotlib.figure.Figure at 0x11c65e278>"
      ]
     },
     "metadata": {},
     "output_type": "display_data"
    }
   ],
   "source": [
    "'''\n",
    "In contrast, NieR: Automata is far more predictive of Persona 5 trophy rank than of Binding of Issac trophy rank.\n",
    "Like Person 5, NieR: Automata is a story-focused Japanese role-playing game.\n",
    "'''\n",
    "\n",
    "means3 = [df[df['NieR: Automata'] == k]['The Binding of Isaac: Rebirth'].mean() for k in range(7)]\n",
    "means4 = [df[df['NieR: Automata'] == k]['Persona 5'].mean() for k in range(7)]\n",
    "\n",
    "ax2 = plt.subplot(111)\n",
    "ax2.bar(ranks - 0.4, means3, width = 0.4, color = 'r', label = 'Binding of Isaac')\n",
    "ax2.bar(ranks, means4, width = 0.4, color = 'b', label = 'Persona 5')\n",
    "ax2.legend(loc = 'upper left', fontsize = 10)\n",
    "plt.xlabel('NieR: Automata trophy rank', fontsize = 10)\n",
    "plt.ylabel('Mean trophy rank', fontsize = 10)\n",
    "plt.title('Mean trophy rank by NieR: Automata trophy rank', fontsize = 14)\n",
    "\n",
    "plt.show()"
   ]
  },
  {
   "cell_type": "code",
   "execution_count": null,
   "metadata": {
    "collapsed": true
   },
   "outputs": [],
   "source": []
  },
  {
   "cell_type": "code",
   "execution_count": null,
   "metadata": {
    "collapsed": true
   },
   "outputs": [],
   "source": []
  },
  {
   "cell_type": "code",
   "execution_count": null,
   "metadata": {
    "collapsed": true
   },
   "outputs": [],
   "source": []
  },
  {
   "cell_type": "code",
   "execution_count": null,
   "metadata": {
    "collapsed": true
   },
   "outputs": [],
   "source": []
  }
 ],
 "metadata": {
  "kernelspec": {
   "display_name": "Python 3",
   "language": "python",
   "name": "python3"
  },
  "language_info": {
   "codemirror_mode": {
    "name": "ipython",
    "version": 3
   },
   "file_extension": ".py",
   "mimetype": "text/x-python",
   "name": "python",
   "nbconvert_exporter": "python",
   "pygments_lexer": "ipython3",
   "version": "3.6.1"
  }
 },
 "nbformat": 4,
 "nbformat_minor": 2
}
